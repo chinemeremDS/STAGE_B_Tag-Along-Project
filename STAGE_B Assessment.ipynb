{
 "cells": [
  {
   "cell_type": "markdown",
   "id": "a057d010",
   "metadata": {},
   "source": [
    "# Tag-Along Project for Okpala Chinemerem Augustine - 1871ccd91981f000"
   ]
  },
  {
   "cell_type": "markdown",
   "id": "6050ff21",
   "metadata": {},
   "source": [
    "### Question 17\n",
    "From the dataset, fit a linear model on the relationship between the temperature in the living room in Celsius (x = T2) and the temperature outside the building (y = T6). What is the Root Mean Squared error in three D.P?"
   ]
  },
  {
   "cell_type": "code",
   "execution_count": 58,
   "id": "49513a1c",
   "metadata": {},
   "outputs": [
    {
     "name": "stdout",
     "output_type": "stream",
     "text": [
      "Root Mean Squared Error: 3.633\n"
     ]
    }
   ],
   "source": [
    "import pandas as pd\n",
    "from sklearn.model_selection import train_test_split\n",
    "from sklearn.preprocessing import MinMaxScaler\n",
    "from sklearn.linear_model import LinearRegression\n",
    "from sklearn.metrics import mean_absolute_error\n",
    "\n",
    "# Load the dataset\n",
    "data = pd.read_csv('energydata_complete.csv')\n",
    "\n",
    "# Extract relevant columns\n",
    "X = data[['T2']]  # Temperature in the living room\n",
    "y = data['T6']     # Temperature outside the building\n",
    "\n",
    "# Split the data into training and testing sets\n",
    "X_train, X_test, y_train, y_test = train_test_split(X, y, test_size=0.2, random_state=42)\n",
    "\n",
    "# Train a linear regression model\n",
    "model = LinearRegression()\n",
    "model.fit(X_train, y_train)\n",
    "\n",
    "# Make predictions\n",
    "y_pred = model.predict(X_test)\n",
    "\n",
    "# Calculate RMSE\n",
    "rmse = np.sqrt(mean_squared_error(y_test, y_pred))\n",
    "print(\"Root Mean Squared Error:\", round(rmse, 3))\n"
   ]
  },
  {
   "cell_type": "markdown",
   "id": "b30b6ecb",
   "metadata": {},
   "source": [
    "### Question 18\n",
    "Remove the following columns: [“date”, “lights”]. The target variable is “Appliances”. Use a 70-30 train-test set split with a  random state of 42 (for reproducibility). Normalize the dataset using the MinMaxScaler (Hint: Use the MinMaxScaler fit_transform and transform methods on the train and test set respectively). Run a multiple linear regression using the training set. Answer the following questions:\n",
    "\n",
    "What is the Mean Absolute Error (in three decimal places) for the  training set?"
   ]
  },
  {
   "cell_type": "code",
   "execution_count": 59,
   "id": "7e2245e9",
   "metadata": {},
   "outputs": [
    {
     "name": "stdout",
     "output_type": "stream",
     "text": [
      "Mean Absolute Error for the training set: 53.742\n"
     ]
    }
   ],
   "source": [
    "import pandas as pd\n",
    "from sklearn.model_selection import train_test_split\n",
    "from sklearn.preprocessing import MinMaxScaler\n",
    "from sklearn.linear_model import LinearRegression\n",
    "from sklearn.metrics import mean_absolute_error\n",
    "\n",
    "# Load the dataset\n",
    "data = pd.read_csv('energydata_complete.csv')\n",
    "\n",
    "# Remove specified columns\n",
    "columns_to_remove = [\"date\", \"lights\"]\n",
    "data = data.drop(columns=columns_to_remove)\n",
    "\n",
    "# Split the data into features and target variable\n",
    "X = data.drop(columns=['Appliances'])\n",
    "y = data['Appliances']\n",
    "\n",
    "# Split the data into training and testing sets\n",
    "X_train, X_test, y_train, y_test = train_test_split(X, y, test_size=0.3, random_state=42)\n",
    "\n",
    "# Normalize the dataset using MinMaxScaler\n",
    "scaler = MinMaxScaler()\n",
    "X_train_scaled = scaler.fit_transform(X_train)\n",
    "X_test_scaled = scaler.transform(X_test)\n",
    "\n",
    "# Train a multiple linear regression model\n",
    "model = LinearRegression()\n",
    "model.fit(X_train_scaled, y_train)\n",
    "\n",
    "# Make predictions on the training set\n",
    "y_train_pred = model.predict(X_train_scaled)\n",
    "\n",
    "# Calculate Mean Absolute Error for the training set\n",
    "mae_train = mean_absolute_error(y_train, y_train_pred)\n",
    "print(\"Mean Absolute Error for the training set:\", round(mae_train, 3))\n"
   ]
  },
  {
   "cell_type": "markdown",
   "id": "98abad81",
   "metadata": {},
   "source": [
    "### Question 19\n",
    "What is the Root Mean Squared Error (in three decimal places) for the training set?"
   ]
  },
  {
   "cell_type": "code",
   "execution_count": 60,
   "id": "06d1e717",
   "metadata": {},
   "outputs": [
    {
     "name": "stdout",
     "output_type": "stream",
     "text": [
      "Root Mean Squared Error for the training set: 95.216\n"
     ]
    }
   ],
   "source": [
    "import pandas as pd\n",
    "from sklearn.model_selection import train_test_split\n",
    "from sklearn.linear_model import LinearRegression\n",
    "from sklearn.metrics import mean_squared_error\n",
    "import numpy as np\n",
    "\n",
    "# Load the dataset\n",
    "data = pd.read_csv('energydata_complete.csv')\n",
    "\n",
    "# Extract relevant columns (features and target)\n",
    "X = data.drop(columns=['date', 'lights', 'Appliances'])\n",
    "y = data['Appliances']\n",
    "\n",
    "# Split the data into training and testing sets\n",
    "X_train, X_test, y_train, y_test = train_test_split(X, y, test_size=0.3, random_state=42)\n",
    "\n",
    "# Train a linear regression model\n",
    "model = LinearRegression()\n",
    "model.fit(X_train, y_train)\n",
    "\n",
    "# Make predictions on the training set\n",
    "y_train_pred = model.predict(X_train)\n",
    "\n",
    "# Calculate RMSE for the training set\n",
    "rmse_train = np.sqrt(mean_squared_error(y_train, y_train_pred))\n",
    "print(\"Root Mean Squared Error for the training set:\", round(rmse_train, 3))\n"
   ]
  },
  {
   "cell_type": "markdown",
   "id": "a3e2eec2",
   "metadata": {},
   "source": [
    "### Question 20\n",
    "What is the Mean Absolute Error (in three decimal places) for test set?"
   ]
  },
  {
   "cell_type": "code",
   "execution_count": 61,
   "id": "a6393571",
   "metadata": {},
   "outputs": [
    {
     "name": "stdout",
     "output_type": "stream",
     "text": [
      "Mean Absolute Error for the test set: 53.643\n"
     ]
    }
   ],
   "source": [
    "import pandas as pd\n",
    "from sklearn.model_selection import train_test_split\n",
    "from sklearn.linear_model import LinearRegression\n",
    "from sklearn.metrics import mean_absolute_error\n",
    "\n",
    "# Load the dataset\n",
    "data = pd.read_csv('energydata_complete.csv')\n",
    "\n",
    "# Extract relevant columns (features and target)\n",
    "X = data.drop(columns=['date', 'lights', 'Appliances'])\n",
    "y = data['Appliances']\n",
    "\n",
    "# Split the data into training and testing sets\n",
    "X_train, X_test, y_train, y_test = train_test_split(X, y, test_size=0.3, random_state=42)\n",
    "\n",
    "# Train a linear regression model\n",
    "model = LinearRegression()\n",
    "model.fit(X_train, y_train)\n",
    "\n",
    "# Make predictions on the testing set\n",
    "y_test_pred = model.predict(X_test)\n",
    "\n",
    "# Calculate MAE for the testing set\n",
    "mae_test = mean_absolute_error(y_test, y_test_pred)\n",
    "print(\"Mean Absolute Error for the test set:\", round(mae_test, 3))\n"
   ]
  },
  {
   "cell_type": "markdown",
   "id": "43c3722f",
   "metadata": {},
   "source": [
    "### Question 21\n",
    "What is the Root Mean Squared Error (in three decimal places) for test set?"
   ]
  },
  {
   "cell_type": "code",
   "execution_count": 62,
   "id": "607eb9d9",
   "metadata": {},
   "outputs": [
    {
     "name": "stdout",
     "output_type": "stream",
     "text": [
      "Root Mean Squared Error for the test set: 93.64\n"
     ]
    }
   ],
   "source": [
    "import pandas as pd\n",
    "from sklearn.model_selection import train_test_split\n",
    "from sklearn.linear_model import LinearRegression\n",
    "from sklearn.metrics import mean_squared_error\n",
    "import numpy as np\n",
    "\n",
    "# Load the dataset\n",
    "data = pd.read_csv('energydata_complete.csv')\n",
    "\n",
    "# Extract relevant columns (features and target)\n",
    "X = data.drop(columns=['date', 'lights', 'Appliances'])\n",
    "y = data['Appliances']\n",
    "\n",
    "# Split the data into training and testing sets\n",
    "X_train, X_test, y_train, y_test = train_test_split(X, y, test_size=0.3, random_state=42)\n",
    "\n",
    "# Train a linear regression model\n",
    "model = LinearRegression()\n",
    "model.fit(X_train, y_train)\n",
    "\n",
    "# Make predictions on the testing set\n",
    "y_test_pred = model.predict(X_test)\n",
    "\n",
    "# Calculate RMSE for the testing set\n",
    "rmse_test = np.sqrt(mean_squared_error(y_test, y_test_pred))\n",
    "print(\"Root Mean Squared Error for the test set:\", round(rmse_test, 3))\n"
   ]
  },
  {
   "cell_type": "markdown",
   "id": "1c0735fc",
   "metadata": {},
   "source": [
    "### Question 22\n",
    "Did the Model above overfit to the training set"
   ]
  },
  {
   "cell_type": "code",
   "execution_count": 63,
   "id": "fd3a61a3",
   "metadata": {},
   "outputs": [
    {
     "name": "stdout",
     "output_type": "stream",
     "text": [
      "Mean Absolute Error for training set: 53.742\n",
      "Mean Absolute Error for testing set: 53.643\n",
      "The model does not appear to have overfit to the training set.\n"
     ]
    }
   ],
   "source": [
    "# Train a linear regression model\n",
    "model.fit(X_train, y_train)\n",
    "\n",
    "# Make predictions on the training set\n",
    "y_train_pred = model.predict(X_train)\n",
    "\n",
    "# Make predictions on the testing set\n",
    "y_test_pred = model.predict(X_test)\n",
    "\n",
    "# Calculate Mean Absolute Error for training and testing sets\n",
    "mae_train = mean_absolute_error(y_train, y_train_pred)\n",
    "mae_test = mean_absolute_error(y_test, y_test_pred)\n",
    "\n",
    "print(\"Mean Absolute Error for training set:\", round(mae_train, 3))\n",
    "print(\"Mean Absolute Error for testing set:\", round(mae_test, 3))\n",
    "\n",
    "# Check if the model overfit\n",
    "if mae_train < mae_test:\n",
    "    print(\"The model may have overfit to the training set.\")\n",
    "else:\n",
    "    print(\"The model does not appear to have overfit to the training set.\")\n"
   ]
  },
  {
   "cell_type": "markdown",
   "id": "2354d2ec",
   "metadata": {},
   "source": [
    "### Question 23\n",
    "Train a ridge regression model with default parameters. Is there any change to the root mean squared error (RMSE) when evaluated on the test set?"
   ]
  },
  {
   "cell_type": "code",
   "execution_count": 64,
   "id": "9c2a34ce",
   "metadata": {},
   "outputs": [
    {
     "name": "stdout",
     "output_type": "stream",
     "text": [
      "Root Mean Squared Error (RMSE) for the training set: 95.216\n",
      "Root Mean Squared Error (RMSE) for the test set: 93.641\n"
     ]
    }
   ],
   "source": [
    "import pandas as pd\n",
    "from sklearn.model_selection import train_test_split\n",
    "from sklearn.linear_model import Ridge\n",
    "from sklearn.metrics import mean_squared_error\n",
    "import numpy as np\n",
    "\n",
    "# Load the dataset\n",
    "data = pd.read_csv('energydata_complete.csv')\n",
    "\n",
    "# Extract relevant columns (features and target)\n",
    "X = data.drop(columns=['date', 'lights', 'Appliances'])\n",
    "y = data['Appliances']\n",
    "\n",
    "# Split the data into training and testing sets\n",
    "X_train, X_test, y_train, y_test = train_test_split(X, y, test_size=0.3, random_state=42)\n",
    "\n",
    "# Train a ridge regression model with default parameters\n",
    "ridge_model = Ridge()\n",
    "ridge_model.fit(X_train, y_train)\n",
    "\n",
    "# Make predictions on the training set\n",
    "y_train_pred = ridge_model.predict(X_train)\n",
    "\n",
    "# Make predictions on the testing set\n",
    "y_test_pred = ridge_model.predict(X_test)\n",
    "\n",
    "# Calculate RMSE for the training set\n",
    "rmse_train = np.sqrt(mean_squared_error(y_train, y_train_pred))\n",
    "\n",
    "# Calculate RMSE for the testing set\n",
    "rmse_test = np.sqrt(mean_squared_error(y_test, y_test_pred))\n",
    "\n",
    "print(\"Root Mean Squared Error (RMSE) for the training set:\", round(rmse_train, 3))\n",
    "print(\"Root Mean Squared Error (RMSE) for the test set:\", round(rmse_test, 3))\n"
   ]
  },
  {
   "cell_type": "markdown",
   "id": "d6479db0",
   "metadata": {},
   "source": [
    "Yes, there is a change in the Root Mean Squared Error (RMSE) when evaluated on the test set compared to the RMSE for the training set."
   ]
  },
  {
   "cell_type": "markdown",
   "id": "374d0857",
   "metadata": {},
   "source": [
    "### Question 24\n",
    "Train a lasso regression model with default value and obtain the new feature weights with it. How many of the features have non-zero feature weights?"
   ]
  },
  {
   "cell_type": "code",
   "execution_count": 65,
   "id": "c12992fa",
   "metadata": {},
   "outputs": [
    {
     "name": "stdout",
     "output_type": "stream",
     "text": [
      "Number of features with non-zero weights: 21\n"
     ]
    }
   ],
   "source": [
    "import pandas as pd\n",
    "from sklearn.model_selection import train_test_split\n",
    "from sklearn.linear_model import Lasso\n",
    "\n",
    "# Load the dataset\n",
    "data = pd.read_csv('energydata_complete.csv')\n",
    "\n",
    "# Extract relevant columns (features and target)\n",
    "X = data.drop(columns=['date', 'Appliances', 'lights'])\n",
    "y = data['Appliances']\n",
    "\n",
    "# Train-test split (not necessary for Lasso, but useful for evaluation)\n",
    "X_train, X_test, y_train, y_test = train_test_split(X, y, test_size=0.3, random_state=42)\n",
    "\n",
    "# Train a Lasso regression model with default parameters\n",
    "lasso_model = Lasso()\n",
    "lasso_model.fit(X_train, y_train)\n",
    "\n",
    "# Extract feature weights\n",
    "feature_weights = lasso_model.coef_\n",
    "\n",
    "# Count the number of features with non-zero weights\n",
    "non_zero_features = sum(feature_weights != 0)\n",
    "print(\"Number of features with non-zero weights:\", non_zero_features)\n"
   ]
  },
  {
   "cell_type": "markdown",
   "id": "493e3ba4",
   "metadata": {},
   "source": [
    "### Question 25\n",
    "What is the new RMSE with the Lasso Regression on the test set?"
   ]
  },
  {
   "cell_type": "code",
   "execution_count": 66,
   "id": "1510ea19",
   "metadata": {},
   "outputs": [
    {
     "name": "stdout",
     "output_type": "stream",
     "text": [
      "Root Mean Squared Error with Lasso Regression on the test set: 93.641\n"
     ]
    }
   ],
   "source": [
    "import pandas as pd\n",
    "from sklearn.model_selection import train_test_split\n",
    "from sklearn.preprocessing import MinMaxScaler\n",
    "from sklearn.linear_model import Lasso\n",
    "from sklearn.metrics import mean_squared_error\n",
    "import numpy as np\n",
    "\n",
    "# Load the dataset\n",
    "data = pd.read_csv('energydata_complete.csv')\n",
    "\n",
    "# Extract relevant columns (features and target)\n",
    "X = data.drop(columns=['date', 'Appliances', 'lights'])\n",
    "y = data['Appliances']\n",
    "\n",
    "# Split the data into training and testing sets\n",
    "X_train, X_test, y_train, y_test = train_test_split(X, y, test_size=0.3, random_state=42)\n",
    "\n",
    "# Normalize the features using MinMaxScaler\n",
    "scaler = MinMaxScaler()\n",
    "X_train_scaled = scaler.fit_transform(X_train)\n",
    "X_test_scaled = scaler.transform(X_test)\n",
    "\n",
    "# Train a Lasso regression model\n",
    "lasso_model = Lasso(alpha=0.001)  # You can adjust the alpha parameter as needed\n",
    "lasso_model.fit(X_train_scaled, y_train)\n",
    "\n",
    "# Make predictions on the testing set\n",
    "y_test_pred = lasso_model.predict(X_test_scaled)\n",
    "\n",
    "# Calculate RMSE for the testing set\n",
    "rmse_test = np.sqrt(mean_squared_error(y_test, y_test_pred))\n",
    "print(\"Root Mean Squared Error with Lasso Regression on the test set:\", round(rmse_test, 3))\n"
   ]
  },
  {
   "cell_type": "code",
   "execution_count": null,
   "id": "e3faffeb",
   "metadata": {},
   "outputs": [],
   "source": []
  }
 ],
 "metadata": {
  "kernelspec": {
   "display_name": "Python 3 (ipykernel)",
   "language": "python",
   "name": "python3"
  },
  "language_info": {
   "codemirror_mode": {
    "name": "ipython",
    "version": 3
   },
   "file_extension": ".py",
   "mimetype": "text/x-python",
   "name": "python",
   "nbconvert_exporter": "python",
   "pygments_lexer": "ipython3",
   "version": "3.9.12"
  }
 },
 "nbformat": 4,
 "nbformat_minor": 5
}
